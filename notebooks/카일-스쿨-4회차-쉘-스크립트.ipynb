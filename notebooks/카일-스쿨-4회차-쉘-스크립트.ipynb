{
 "cells": [
  {
   "cell_type": "markdown",
   "metadata": {
    "slideshow": {
     "slide_type": "slide"
    }
   },
   "source": [
    "## 카일 스쿨 4회차\n",
    "- [![Hits](https://hits.seeyoufarm.com/api/count/incr/badge.svg?url=https%3A%2F%2Fzzsza.github.io%2Fkyle-school%2Fweek4%2F)](https://hits.seeyoufarm.com)\n",
    "- #0. 질문 잘 하는 방법\n",
    "- #1. 저번 주 간단 복습\n",
    "- #2. 쉘 커맨드\n",
    "- #3. 쉘 스크립트"
   ]
  },
  {
   "cell_type": "markdown",
   "metadata": {
    "slideshow": {
     "slide_type": "slide"
    }
   },
   "source": [
    "### 질문 잘 하는 방법\n",
    "- 우리는 이미 많은 곳에서 질문을 함\n",
    "- 크게 두가지 소스\n",
    "    - 오프라인 : 회사에서 사수,멘토, 팀장님 등\n",
    "    - 온라인 : 온라인 커뮤니티 및 메일 문의\n",
    "- 둘 다 질문 잘하는 방법이 매우 중요함"
   ]
  },
  {
   "cell_type": "markdown",
   "metadata": {
    "slideshow": {
     "slide_type": "subslide"
    }
   },
   "source": [
    "- 공통적으로 중요한 부분\n",
    "    - 바보 같은 질문은 없다고 생각하기. 질문해도 충분히 괜찮다. 지금 모른다고 부끄러운 일이 아니고, 내가 실수하는 것을 다른 사람도 할 수 있다\n",
    "    - 무엇을 물어볼 것인가? 구체적으로 생각해보기\n",
    "        - 좋지 않은 질문 : 이거 안되요. 설치가 안되요.\n",
    "    - 왜 그 현상이 발생했나? 고민해보기\n",
    "    - 어떤 환경에서 실행했는가?\n",
    "    - Error 메세지는 무엇이 나왔나?\n",
    "        - 그 Error 메세지를 해결하기 위해 어떤 노력을 했는가?\n",
    "    - 재현이 가능해야 함\n",
    "    - 질문을 통해 해결했다면 그 내용을 정리해두기(팀을 위해 정리해서 공유해도 좋음)\n",
    "    "
   ]
  },
  {
   "cell_type": "markdown",
   "metadata": {
    "slideshow": {
     "slide_type": "subslide"
    }
   },
   "source": [
    "- 오프라인에서\n",
    "    - 누구에게 물어볼 것인가?\n",
    "    - 질문하는 것은 상대방의 시간 리소스를 사용하는 것\n",
    "        - 따라서 상대방의 성향을 파악해봐야 함\n",
    "        - \"아무 시간이나 질문해도 되는지?\" : 자신이 주로 업무할 때 질문 받는것을 싫어하는 경우도 있음\n",
    "        - 싫어한다면 따로 시간을 내달라고 요청하는 것도 좋은 방법\n",
    "        - \"질문의 퀄리티를 중요하게 여기는 경우\"\n",
    "        - \"같은 질문을 좋아하지 않는 경우\"\n",
    "        - 카일은?\n",
    "    - 작은 감사 표현 => 사람인지라 그런 것들이 보이면 더 신경써주게 됨\n",
    "    - 중요한 부분 : 누구에게나 잘 질문하는 문화인지 확인해보기"
   ]
  },
  {
   "cell_type": "markdown",
   "metadata": {
    "slideshow": {
     "slide_type": "subslide"
    }
   },
   "source": [
    "- 온라인\n",
    "    - 어떤 커뮤니티에 할 것인가? or 어떤 분에게 메일을 보낼 것인가?\n",
    "    - 어떤 맥락으로 하는지\n",
    "        - ~~~를 하는데 이게 여기서 많이 이야기되서?\n",
    "        - 이 내용으로 검색하니 블로그를 봤고 감사의 인사\n",
    "    - Code Snippet\n",
    "        - gist.github.com 을 이용해 코드를 전달드리고, 적절한 스크린샷 첨부시 좋음\n",
    "    - 단순 고민 토로식 질문은 좋은 답변이 오지 않을 확률이 큼\n",
    "    - 예의!"
   ]
  },
  {
   "cell_type": "markdown",
   "metadata": {
    "slideshow": {
     "slide_type": "subslide"
    }
   },
   "source": [
    "- 질문의 좋은 점\n",
    "    - 좋은 질문을 준비하는 동안 깨달음과 실력 향상에 도움을 줌\n",
    "    - 함께 자라기의 실천"
   ]
  },
  {
   "cell_type": "markdown",
   "metadata": {
    "slideshow": {
     "slide_type": "subslide"
    }
   },
   "source": [
    "- 그리고 추가로\n",
    "    - 신입일 때 의사결정이나 어려운 내용이 자주 있을 수 있음 \n",
    "    - => 그럴때 도와주라고 팀장님들이 있으니 고민이 있으면 나누고, 이슈 해결한다고 보면 됨니다"
   ]
  },
  {
   "cell_type": "markdown",
   "metadata": {
    "slideshow": {
     "slide_type": "slide"
    }
   },
   "source": [
    "### 저번 주 간단 복습\n",
    "- 쉘을 사용해야 하는 이유\n",
    "- 리다이렉트\n",
    "- 표준스트림\n",
    "- grep\n",
    "- cat\n",
    "- ps"
   ]
  },
  {
   "cell_type": "markdown",
   "metadata": {
    "slideshow": {
     "slide_type": "subslide"
    }
   },
   "source": [
    "### 쉘 커맨드\n",
    "- 지난 시간에 다루지 못한 쉘 커맨드\n",
    "- awk\n",
    "    - 데이터를 조작하고 레포트를 생성하기 위해 사용하는 명령어\n",
    "    - Alfred Aho, Peter Weinberger, Brian Kernighan 3명이 만들었는데 이니셜을 가져와 awk라 부름\n",
    "    - awk는 명령어를 입력한 다음, 작은 따옴표로 둘러싸인 패턴/액션을 입력하고 마지막에 입력 파일을 지정\n",
    "    \n",
    "    ```\n",
    "    awk 'pattern' filename\n",
    "    awk '{action}' filename\n",
    "    awk 'pattern {action}' filename\n",
    "    ```\n",
    "    "
   ]
  },
  {
   "cell_type": "markdown",
   "metadata": {
    "slideshow": {
     "slide_type": "subslide"
    }
   },
   "source": [
    "- 예시\n",
    "    \n",
    "```\n",
    "vi awkfile\n",
    "\n",
    "홍 길동 3324    5/11/96 50354  \n",
    "임 꺽정 5246    15/9/66 287650  \n",
    "이 성계 87654    6/20/58 60000  \n",
    "정 약용 908683    9/40/48 365000 \n",
    "```\n",
    "\n",
    "- awk '{print $0}' awkfile\n",
    "    - 전체 print\n",
    "\n",
    "```\n",
    "홍 길동 3324    5/11/96 50354\n",
    "임 꺽정 5246    15/9/66 287650\n",
    "이 성계 87654    6/20/58 60000\n",
    "정 약용 908683    9/40/48 365000\n",
    "```\n",
    "\n"
   ]
  },
  {
   "cell_type": "markdown",
   "metadata": {
    "slideshow": {
     "slide_type": "subslide"
    }
   },
   "source": [
    "- awk '{print $1}' awkfile\n",
    "    - 구분자를 사용해(default ' ') 첫번째 print\n",
    "    \n",
    "```\n",
    "홍\n",
    "임\n",
    "이\n",
    "정\n",
    "```"
   ]
  },
  {
   "cell_type": "markdown",
   "metadata": {
    "slideshow": {
     "slide_type": "subslide"
    }
   },
   "source": [
    "- awk '{print NR}' awkfile\n",
    "    - 파일의 레코드 번호 출력\n",
    "    \n",
    "```\n",
    "1\n",
    "2\n",
    "3\n",
    "4\n",
    "```"
   ]
  },
  {
   "cell_type": "markdown",
   "metadata": {
    "slideshow": {
     "slide_type": "subslide"
    }
   },
   "source": [
    "- awk '/길동/' awkfile\n",
    "    - 찾는다\n",
    "\n",
    "```\n",
    "홍 길동 3324    5/11/96 50354\n",
    "```"
   ]
  },
  {
   "cell_type": "markdown",
   "metadata": {
    "slideshow": {
     "slide_type": "subslide"
    }
   },
   "source": [
    "- awk '/정/{print \"\\t안녕하세요? \" $1, $2 \"님!\"}' awkfile\n",
    "    - 정이 들어가는 데이터를 찾고, 텍스트를 붙여서 새로운 결과 출력\n",
    "\n",
    "```\n",
    "    안녕하세요? 임 꺽정님!\n",
    "\t안녕하세요? 정 약용님!\n",
    "```"
   ]
  },
  {
   "cell_type": "markdown",
   "metadata": {
    "slideshow": {
     "slide_type": "subslide"
    }
   },
   "source": [
    "- awk '/^정/{print $1, $2, $3}' awkfile\n",
    "    - 맨 앞에 정이 들어가는 데이터를 찾고, 출력\n",
    "\n",
    "```\n",
    "정 약용 908683\n",
    "```"
   ]
  },
  {
   "cell_type": "markdown",
   "metadata": {
    "slideshow": {
     "slide_type": "subslide"
    }
   },
   "source": [
    "- df | awk '$4 < 100000' : |을 이용해 파이프라인 생성\n",
    "\n",
    "```\n",
    "devfs                388       388         0   100%     672                   0  100%   /dev\n",
    "map -hosts             0         0         0   100%       0                   0  100%   /net\n",
    "map auto_home          0         0         0   100%       0                   0  100%   /home\n",
    "```"
   ]
  },
  {
   "cell_type": "markdown",
   "metadata": {
    "slideshow": {
     "slide_type": "subslide"
    }
   },
   "source": [
    "- awk '{max=($3 > $5) ? $1 : $2; print max}' awkfile\n",
    "    - 표현식을 검사하기 위해 ?와 :를 사용. if/else가 하는 역할과 같은 결과를 의미\n",
    "    - $3과 $5를 비교해서 $3이 크면 $1을 출력하고, 아니면 $2를 출력해라\n",
    "    \n",
    "```\n",
    "길동\n",
    "꺽정\n",
    "이\n",
    "정\n",
    "```"
   ]
  },
  {
   "cell_type": "markdown",
   "metadata": {
    "slideshow": {
     "slide_type": "subslide"
    }
   },
   "source": [
    "- awk 'BEGIN {FS=\" \"} {print $3, $4}' awkfile\n",
    "    - test.txt 파일의 필드 구분자를 \"\" 으로 지정하고, 3번째와 4번째 필드를 프린트 \n",
    "    \n",
    "```\n",
    "\n",
    "```"
   ]
  },
  {
   "cell_type": "markdown",
   "metadata": {
    "slideshow": {
     "slide_type": "subslide"
    }
   },
   "source": [
    "- awk -F ' ' '{print $4}' awkfile\n",
    "    - ' '로 split하고 4번째 값 출력\n",
    "\n",
    "```\n",
    "5/11/96\n",
    "15/9/66\n",
    "6/20/58\n",
    "9/40/48\n",
    "```\n",
    "\n",
    "- 더 자세한건 [제 블로그](https://zzsza.github.io/development/2017/12/20/linux-6/) 참고"
   ]
  },
  {
   "cell_type": "markdown",
   "metadata": {
    "slideshow": {
     "slide_type": "subslide"
    }
   },
   "source": [
    "- sed\n",
    "    - `sed 's/찾을 텍스트/바꿀 텍스트/g' 파일명`으로 사용함\n",
    "        - `-i` 옵션은 --in-place를 의미함\n",
    "        - `s`는 문자열 치환을 의미\n",
    "        - `g`는 모든 라인에 적용한다는 의미. 작성하지 않으면\n",
    "    - sed 's/root/ROOT/g' /etc/group | grep ROOT\n",
    "    - sed 's/root/ROOT/g' /etc/group | grep root\n",
    "    - sed -n '3,7p' /etc/group"
   ]
  },
  {
   "cell_type": "markdown",
   "metadata": {
    "slideshow": {
     "slide_type": "skip"
    }
   },
   "source": [
    "- 서버, top\n",
    "    - 시스템 상태를 전반적으로 파악 가능(CPU, Memor, Process)\n",
    "    - VIRT, RES, SHR"
   ]
  },
  {
   "cell_type": "markdown",
   "metadata": {
    "slideshow": {
     "slide_type": "subslide"
    }
   },
   "source": [
    "- alias : 별칭\n",
    "    - alas ll = 'ls -al'"
   ]
  },
  {
   "cell_type": "markdown",
   "metadata": {
    "slideshow": {
     "slide_type": "subslide"
    }
   },
   "source": [
    "- xargs\n",
    "    - 주로 find, ls, cat 뒤에 파이프로 사용됨\n",
    "    - 앞 명령어의 결과를 다음 명령어의 입력으로 넘기는 파이프와 함께 사용해, 앞 명령어의 출력값을 다음 명령어의 인자로 넘긴다\n",
    "    - find를 이용해 mtime이 30일 이상된 파일을 .bak으로 바꾸기\n",
    "    ```\n",
    "    find . -mtime +30 | xargs mv -i {} {}.bak\n",
    "    ```\n",
    "    "
   ]
  },
  {
   "cell_type": "markdown",
   "metadata": {
    "slideshow": {
     "slide_type": "subslide"
    }
   },
   "source": [
    "- xargs\n",
    "    - *.mp3 지우기, 그러나 찾아 삭제는 find -delete가 좋음. 아래 예제처럼 하면 파일 하나당 서브 프로세스가 생성됨\n",
    "\n",
    "```\n",
    "find . -name '*.mp3' | xargs rm\n",
    "```"
   ]
  },
  {
   "cell_type": "markdown",
   "metadata": {
    "slideshow": {
     "slide_type": "subslide"
    }
   },
   "source": [
    "- xargs\n",
    "    - ls를 이용해 text 파일 목록을 가져오고 각 파일 내용을 cat으로 읽고 병합 파일 만듬\n",
    "\n",
    "```\n",
    "ls *.txt | xargs cat >> abc.merge\n",
    "```"
   ]
  },
  {
   "cell_type": "markdown",
   "metadata": {
    "slideshow": {
     "slide_type": "subslide"
    }
   },
   "source": [
    "- xargs\n",
    "    - find ~/ -type f | grep -H \"*.txt$\" | xargs grep -H \"abcd\"\n",
    "    - 디렉토리에서 txt파일을 우선 찾은 다음 이름에 abcd를 포함하는 파일을 또 찾음"
   ]
  },
  {
   "cell_type": "markdown",
   "metadata": {
    "slideshow": {
     "slide_type": "subslide"
    }
   },
   "source": [
    "### Nohup & Screen\n",
    "- 무언가 작업을 백그라운드(내 터미널을 꺼도 작업이 돌아가도록)에서 돌고 싶은 경우\n",
    "    - 대표적으로 nohup, screen 등을 사용함"
   ]
  },
  {
   "cell_type": "markdown",
   "metadata": {
    "slideshow": {
     "slide_type": "subslide"
    }
   },
   "source": [
    "- nohup\n",
    "    - 리눅스에서 쉘 스크립트 파일이나 파이썬 파일을 데몬 형태로 실행시킴\n",
    "    - 터미널 세션이 끊겨도 실행을 멈추지 않고 동작함\n",
    "    - &을 사용 => 프로세스 실행할 때 백그라운드 동작하도록 만듬\n",
    "    - nohup으로 실행할 쉘 스크립트 파일은 퍼미션이 755 이상이어야 함\n",
    "\n",
    "- 사용 방법\n",
    "\n",
    "```\n",
    "nohup shell.sh &\n",
    "```"
   ]
  },
  {
   "cell_type": "markdown",
   "metadata": {
    "slideshow": {
     "slide_type": "subslide"
    }
   },
   "source": [
    "- nohup\n",
    "    - 종료하는 두가지 방법\n",
    "\n",
    "    ```\n",
    "    ps ef | grep shell.sh\n",
    "    ```\n",
    "\n",
    "    ```\n",
    "    ps -ef로 pid 번호 찾은 후\n",
    "    kill -9 pid번호\n",
    "    ```\n",
    "\n",
    "- 로그\n",
    "    - nohup을 만들면 nohup.out 파일이 생성됨"
   ]
  },
  {
   "cell_type": "markdown",
   "metadata": {
    "slideshow": {
     "slide_type": "subslide"
    }
   },
   "source": [
    "- screen\n",
    "    - nohup을 대체할 수 있음\n",
    "    \n",
    "    ```\n",
    "    apt-get install screen\n",
    "    ```\n",
    "    \n",
    "    - 스크린 생성\n",
    "    \n",
    "    ```\n",
    "    screen -S screen_name\n",
    "    ```\n",
    "    \n",
    "    - 저는 screen -dmS screen_name을 자주 사용함\n",
    "        - `-dm` : 커맨드를 실행하고 대화식으로 하지 않고 인자로 연결\n",
    "        - `-S` : 사용 가능한 이름을 지정해 나중에 쉽게 다시 연결"
   ]
  },
  {
   "cell_type": "markdown",
   "metadata": {
    "slideshow": {
     "slide_type": "subslide"
    }
   },
   "source": [
    "- screen\n",
    "    - 스크린으로 진입\n",
    "\n",
    "    ```\n",
    "    screen -r screen_name\n",
    "    ```\n",
    "\n",
    "    - 스크린 리스트 확인\n",
    "\n",
    "    ```\n",
    "    screen -list\n",
    "    ```\n"
   ]
  },
  {
   "cell_type": "markdown",
   "metadata": {
    "slideshow": {
     "slide_type": "subslide"
    }
   },
   "source": [
    "- scp\n",
    "    - Secure Copy(remote file copy program)의 줄임말\n",
    "    - Secure Shell(ssh)을 이용해 네트워크로 연결된 호스트간에 파일을 주고 받는 명령어\n",
    "    - `-r` : 재귀적으로 폴더 복사\n",
    "    - `-P` : ssh 포트 지정\n",
    "    - `-i` : ssh identify file을 지정해 파일 이동\n",
    "\n",
    "\n",
    "- local -> remote\n",
    "    \n",
    "```\n",
    "scp local_path user@ip:remote_directory\n",
    "```"
   ]
  },
  {
   "cell_type": "markdown",
   "metadata": {
    "slideshow": {
     "slide_type": "subslide"
    }
   },
   "source": [
    "- scp\n",
    "    - remote -> local\n",
    "\n",
    "    ```\n",
    "    scp user@ip:remote_directory local_path\n",
    "    ```\n",
    "\n",
    "    - remote -> remote\n",
    "\n",
    "    ```\n",
    "    scp user1@ip1:source_remote_directory user2@ip2:target_remote_directory\n",
    "    ```\n",
    "    "
   ]
  },
  {
   "cell_type": "markdown",
   "metadata": {
    "slideshow": {
     "slide_type": "subslide"
    }
   },
   "source": [
    "- /dev/null\n",
    "    - 리눅스 null\n",
    "    - null, 블랙홀 같은 공간이라 생각\n",
    "    - 출력 스트림을 버릴 경우 사용됨\n",
    "\n",
    "```\n",
    "echo \"hello\"\n",
    "# hello\n",
    "echo hello > /dev/null\n",
    "# 아무것도 출력되지 않음\n",
    "```"
   ]
  },
  {
   "cell_type": "markdown",
   "metadata": {
    "slideshow": {
     "slide_type": "subslide"
    }
   },
   "source": [
    "- /dev/null\n",
    "    - 주로 2>&1 이런 것들과 같이 쓰임\n",
    "    - 2(표준 에러)를 1(표준 출력)으로 바꿔서 redirect!\n",
    "    - & : 백그라운드에서 실행하라\n",
    "    \n",
    "```\n",
    "rm test > /dev/null 2>&1\n",
    "```"
   ]
  },
  {
   "cell_type": "markdown",
   "metadata": {
    "slideshow": {
     "slide_type": "subslide"
    }
   },
   "source": [
    "- 유용한 팁 : 터미널에 출력되는 값 복사할때 어떻게 하나요, 현재 경로 같은 것들\n",
    "    - pbcopy : 명령어의 결과를 클립보드로 복사\n",
    "        \n",
    "    ```\n",
    "    echo \"hihi\" | pbcopy\n",
    "    ```\n",
    "    \n",
    "    - jupyter 경로를 복사하고 싶은 경우\n",
    "    \n",
    "    ```\n",
    "    echo `which jupyter` | pbcopy\n",
    "    ```\n",
    "    "
   ]
  },
  {
   "cell_type": "markdown",
   "metadata": {
    "slideshow": {
     "slide_type": "subslide"
    }
   },
   "source": [
    "- 현재 경로 복사하고 싶은 경우\n",
    "    \n",
    "    ```\n",
    "    echo `pwd` | pbcopy\n",
    "    ```"
   ]
  },
  {
   "cell_type": "markdown",
   "metadata": {
    "slideshow": {
     "slide_type": "slide"
    }
   },
   "source": [
    "### 쉘 스크립트\n",
    "- 쉐뱅(Shebang)\n",
    "    - 쉐뱅, 셔뱅..?\n",
    "    - #! 이 친구를 뜻함\n",
    "        - 이 스크립트를 bash 쉘로 명령어를 해석하겠다. 인터프리터 지정 명령어\n",
    "        - 만약 사용하는 OS에 bash가 없을수도 있음\n",
    "       \n",
    "    ```\n",
    "    #!/bin/bash\n",
    "    ```\n",
    "    \n",
    "    - 사용할 수 있는 쉘 확인하는 방법\n",
    "    \n",
    "    ```\n",
    "    cat /etc/shells\n",
    "    ```"
   ]
  },
  {
   "cell_type": "markdown",
   "metadata": {
    "slideshow": {
     "slide_type": "subslide"
    }
   },
   "source": [
    "- 쉘 스크립트 만들기\n",
    "    - 우린 이미 했음\n",
    "    - vi hello.sh\n",
    "    \n",
    "    ```\n",
    "    #!/bin/bash\n",
    "    echo \"Coool!\"\n",
    "    echo \"Hello!\"\n",
    "    ```\n",
    "- 하지만 vs code에서 그냥 file_name.sh를 만들면!\n",
    "    \n",
    "- 주석\n",
    "    - #로 시작하면 주석\n",
    "- vi하고 Insert 모두에서 한줄 삭제하기 : dd"
   ]
  },
  {
   "cell_type": "markdown",
   "metadata": {
    "slideshow": {
     "slide_type": "subslide"
    }
   },
   "source": [
    "- 함수\n",
    "    - 다른 언어와 차이 없음\n",
    "    - function은 작성해도 되고, 생략해도 됨\n",
    "    \n",
    "    ```\n",
    "    #!/bin/bash\n",
    "    \n",
    "    hello_function() {\n",
    "        echo \"Hello!!!\"\n",
    "    }\n",
    "    \n",
    "    function hello_function2() {\n",
    "        echo \"Hello2~\"\n",
    "        echo \"인자값: ${@}\"$\n",
    "    \n",
    "    hello_function\n",
    "    hello_function2\n",
    "    \n",
    "    hell_function2 \"hi\" \"hello\"\n",
    "    ```\n",
    "    "
   ]
  },
  {
   "cell_type": "markdown",
   "metadata": {
    "slideshow": {
     "slide_type": "subslide"
    }
   },
   "source": [
    "- 변수\n",
    "    - 변수 사용시 = 기호 앞뒤로 공백없이 사용\n",
    "    - 파이썬 습관이 익숙해서 띄어쓰기를 하시면 에러 발생합니다 ㅠ(띄어쓰기에 민감)\n",
    "    - 함수 안에서 사용하는 변수는 local, 그 밖에 있으면 global variable\n",
    "    - 변수 사용은 ${변수} 이렇게 쓰자!\n"
   ]
  },
  {
   "cell_type": "markdown",
   "metadata": {
    "slideshow": {
     "slide_type": "subslide"
    }
   },
   "source": [
    "- 위치 매개 변수\n",
    "    - \\$0 : 실행된 스크립트 이름\n",
    "    - \\$1 : 인자 순서대로 부여 10번째 부턴 \"{}\" 감싸줘야 함\n",
    "    - \\$@ : 전체 인자값\n",
    "    - \\$# : 매개변수 총 개수\n",
    "    - \\$? : 실행 명령의 exit code(성공한 경우 0, 더 궁금하면 bash exit code 검색)"
   ]
  },
  {
   "cell_type": "markdown",
   "metadata": {
    "slideshow": {
     "slide_type": "subslide"
    }
   },
   "source": [
    "- 위치 매개 변수\n",
    "    - test.sh\n",
    "    \n",
    "```\n",
    "#!/bin/bash\n",
    "\n",
    "echo \"file name is\"  $0\n",
    "echo \"first arg is\" $1\n",
    "echo \"second arg is\" $2  \n",
    "echo \"all arg: \" $@\n",
    "echo \"len of arg : \" $#\n",
    "```\n",
    "\n",
    "```\n",
    "bash test.sh 1 2 3 \n",
    "```"
   ]
  },
  {
   "cell_type": "markdown",
   "metadata": {
    "slideshow": {
     "slide_type": "subslide"
    }
   },
   "source": [
    "- for loop\n",
    "    - for ~ in 하고 do / done\n",
    "    - for_loop.sh\n",
    "    \n",
    "    ```\n",
    "    #!/bin/bash\n",
    "    SEQUENCE=$(seq 0 9)\n",
    "    for i in $SEQUENCE\n",
    "    do\n",
    "        echo \"Running loop seq ${i}\" \n",
    "    done\n",
    "    ```"
   ]
  },
  {
   "cell_type": "markdown",
   "metadata": {
    "slideshow": {
     "slide_type": "subslide"
    }
   },
   "source": [
    "- for loop\n",
    "    - seq를 안쓰고 수동으로 입력하기\n",
    "    - for_loop2.sh\n",
    "\n",
    "```\n",
    "#!/bin/bash\n",
    "ORDER=\"5 6 7 8 9 4 3 2 1 0\"\n",
    "for i in $ORDER\n",
    "do\n",
    "    echo \"Running loop ${i}\" \n",
    "done\n",
    "```"
   ]
  },
  {
   "cell_type": "markdown",
   "metadata": {
    "slideshow": {
     "slide_type": "subslide"
    }
   },
   "source": [
    "- for loop\n",
    "    - 0부터 1씩 증가하는 for loop(C/C++ 스타일)\n",
    "    - for_loop3.sh\n",
    "    \n",
    "```\n",
    "#!/bin/bash\n",
    "for ((i=0;i<=9;i++))\n",
    "do\n",
    "    echo \"Running loop \"$i\n",
    "done\n",
    "```"
   ]
  },
  {
   "cell_type": "markdown",
   "metadata": {
    "slideshow": {
     "slide_type": "subslide"
    }
   },
   "source": [
    "- while\n",
    "    - while [condition]; do\n",
    "    - 조건이 true일 때 실행\n",
    "    - 실행 횟수 지정이 필요하지 않는 반복문이 필요할 때 좋음\n",
    "    - 비교 표현식 줄임말\n",
    "        - eq - equal(=)\n",
    "        - ne - not eqaul(<>)\n",
    "        - lt - little(<)\n",
    "        - le - little or equal (<=)\n",
    "        - gt - greater(>)\n",
    "        - ge - greater or eqaul(>=)\n",
    "    - while_loop.sh\n",
    "\n",
    "```\n",
    "#!/bin/bash\n",
    "\n",
    "count=0\n",
    "while [ ${count} -le 5 ]; do\n",
    "    echo ${count}\n",
    "    count=$(( ${count}+1 ))\n",
    "done\n",
    "```"
   ]
  },
  {
   "cell_type": "markdown",
   "metadata": {
    "slideshow": {
     "slide_type": "subslide"
    }
   },
   "source": [
    "- 조건문(if elif)\n",
    "    - if [ condition ]; then ~ fi로 구성됨(fi는 if를 거꾸로)\n",
    "    - if_test.sh\n",
    "    - AND 조건 : &&\n",
    "    - OR 조건 : ||\n",
    "- if_test.sh\n",
    "\n",
    "\n",
    "```\n",
    "#!/bin/bash\n",
    "string1=$1\n",
    "string2=$2\n",
    "string3=\"awesome\"\n",
    "\n",
    "if [ ${string1} == ${string2} ]; then\n",
    "    echo \"string 1, string2 is same\"\n",
    "elif [ ${string1} == ${string3} ]; then\n",
    "    echo \"string 1 is awesome\"\n",
    "else\n",
    "    echo \"else condition\"\n",
    "fi\n",
    "```"
   ]
  },
  {
   "cell_type": "markdown",
   "metadata": {
    "slideshow": {
     "slide_type": "subslide"
    }
   },
   "source": [
    "- 선택문(case문)\n",
    "    - 정규식을 지원함\n",
    "    - | 기호로 다중값 입력 가능(or 조건), 조건 문장 끝에 `;;`로 끝을 표시함\n",
    "    - case ~ esac(easc는 case 거꾸로) \n",
    "- case_test.sh\n",
    "    \n",
    "```\n",
    "#!/bin/bash\n",
    "\n",
    "for string in \"hi\" \"HELLO\" \"WORLD\" \"hello\" \"world\" \"wow\" \"awesome\" \"start\" \"end\" \"etc\"; do\n",
    "    case ${string} in\n",
    "        hello|HELLO)\n",
    "            echo \"hello or HELLO : ${string}\"\n",
    "            ;;\n",
    "        wo*)\n",
    "            echo \"wo로 시작하는 단어 : ${string}\"\n",
    "            ;;\n",
    "        a*|end)\n",
    "            echo \"a로 시작하는 단어 or end일 때 : ${string}\"\n",
    "            ;;\n",
    "        *)\n",
    "            echo \"기타 : ${string}\"\n",
    "            ;;\n",
    "    esac\n",
    "done\n",
    "```"
   ]
  },
  {
   "cell_type": "markdown",
   "metadata": {
    "slideshow": {
     "slide_type": "subslide"
    }
   },
   "source": [
    "- set\n",
    "    - 옵션 또는 매개변수 지정\n",
    "    - 안정적인 스크립트를 위해 아래 옵션은 default로 해두면 좋음\n",
    "    - set -e : 오류가 발생하면 스크립트를 바로 종료. 파이썬에서 오류나면 그 밑에 실행안되는 것을 해주는 옵션. 이 옵션을 안주면 차례대로 주루룩 내려감\n",
    "    - set -u : 정의하지 않은 변수가 있으면 바로 종료\n",
    "    - set -o pipefail : 파이프라인의 명령이 실패하면 해당 리턴 코드가 파이프라인의 리턴 코드로 사용됨\n",
    "- set_test.sh\n",
    "    \n",
    "```\n",
    "#!/bin/bash\n",
    "\n",
    "set -euo pipefail\n",
    "echo \"hi\"\n",
    "\n",
    "echi hihihi\n",
    "# error 발생\n",
    "\n",
    "echo \"hello\"\n",
    "```"
   ]
  },
  {
   "cell_type": "markdown",
   "metadata": {
    "slideshow": {
     "slide_type": "subslide"
    }
   },
   "source": [
    "- Bash에서 ''와 \"\"는 다릅니다!!!!!\n",
    "    - 파이썬에 익숙한 우리가 자주 일으키는 실수\n",
    "    - ''(작은 따옴표)는 단순히 문자열을 의미하고, \"\"(쌍 따옴표)는 변수의 값이 참조됨\n",
    "    \n",
    "```\n",
    "#!/bin/bash\n",
    "BASH_VAR=\"Bash Script is Amazing\"\n",
    "\n",
    "# single quote\n",
    "echo '${BASH_VAR}'\n",
    "\n",
    "# double quotes\n",
    "echo \"${BASH_VAR}\"\n",
    "```\n",
    "\n",
    "```\n",
    "${BASH_VAR}\n",
    "Bash Script is Amazing\n",
    "```"
   ]
  },
  {
   "cell_type": "markdown",
   "metadata": {
    "slideshow": {
     "slide_type": "subslide"
    }
   },
   "source": [
    "- trap\n",
    "    - 스크립트 또는 쉘이 언터럽트를 가로채서 스크립트 내에서 어떤 작업을 할 수 있도록 하는 기능을 제공\n",
    "    \n",
    "\n",
    "```\n",
    "#!/bin/bash\n",
    "\n",
    "set -euo pipefail\n",
    "# 종료가 되거나 끝나면 메세지 전송\n",
    "trap '[ \"$?\" -eq 0 ] || send_error ${LINENO} ${FUNCNAME}' EXIT\n",
    "\n",
    "function send_error {\n",
    "  local lineno=$1\n",
    "  local funname=$2\n",
    "  local current_date=$(date '+%Y-%m-%d %H:%M:%S')\n",
    "  curl 'https://hooks.slack.com/services/T00000000/BXXXXX/asdasdasd' -d \"payload={\\\"text\\\": \\\"[CRON][ERROR] LineNum=${lineno} FunName=${funname}\\\"}\"\n",
    "}\n",
    "\n",
    "function slack_test {\n",
    "   echo \"now sleep...\"\n",
    "   echo \"command + c\"\n",
    "   sleep 5\n",
    "}\n",
    "```"
   ]
  },
  {
   "cell_type": "markdown",
   "metadata": {
    "slideshow": {
     "slide_type": "slide"
    }
   },
   "source": [
    "### 정리\n",
    "- 쉘 스크립트, 익숙하지 않아 매우 어렵죠?\n",
    "    - 3시간 동안 정말 많은 것들을 들었는데, 아마 점점 서버를 직접 만지다보면 쉘 커맨드나 쉘 스크립트에 대한 필요성을 느낄거임\n",
    "    - 지금 키워드 정도로 일단 인지해두고, 나중에 하나씩 다시 공부하는 방법도 추천\n",
    "- Docker 같은 친구를 잘 하려면 쉘 스크립트를 어느정도 할 수 있어야 좋음\n",
    "- 어렵지만 제가 알려드린 내용 위주로 일단 복습은 꼭!\n",
    "- (피와 되고 살이 됨.. 어디서 잘 안 알려줘요. 저도 혼자 책보고 공부함)"
   ]
  },
  {
   "cell_type": "markdown",
   "metadata": {
    "slideshow": {
     "slide_type": "subslide"
    }
   },
   "source": [
    "- 추천 자료\n",
    "    - [The Art of Command Line](https://github.com/jlevy/the-art-of-command-line/blob/master/README-ko.md)\n",
    "    - [카일 깃허브](https://github.com/zzsza/shell-scripts/tree/master/scripts)\n",
    "    - [shell-examples](https://github.com/qjcg/shell-examples)\n",
    "    - [Bash 입문자를 위한 핵심 요약 정리 (Shell Script)](https://blog.gaerae.com/2015/01/bash-hello-world.html)\n",
    "    - [Bash Shell Script Gitbook](https://mug896.github.io/bash-shell/bug_reports.html)"
   ]
  },
  {
   "cell_type": "markdown",
   "metadata": {
    "slideshow": {
     "slide_type": "subslide"
    }
   },
   "source": [
    "### 다음 수업\n",
    "- 5회차(20/1/31)\n",
    "    - 클라우드란 무엇일까? 클라우드의 핵심\n",
    "    - 데이터 엔지니어링이란 무엇일까? 데이터 엔지니어링 퀵 요약\n",
    "- 6회차(20/2/14)\n",
    "    - Airflow를 사용한 간단한 ETL 파이프라인 만들기\n",
    "- 7회차(20/2/28)\n",
    "    - 각종 개발 도구들(IDE, Editor)\n",
    "    - MLOps 개론"
   ]
  },
  {
   "cell_type": "markdown",
   "metadata": {
    "slideshow": {
     "slide_type": "subslide"
    }
   },
   "source": [
    "- 8회차(20/3/13)\n",
    "    - MLOps 중 실험 플랫폼\n",
    "- 9회차(20/3/27)\n",
    "    - Git, Github\n",
    "- 10회차(20/4/10)\n",
    "    - Docker\n",
    "- 11회차(20/4/24)\n",
    "    - Test Code\n",
    "- 12회차(20/5/8)\n",
    "    - Dashboard"
   ]
  }
 ],
 "metadata": {
  "celltoolbar": "Slideshow",
  "kernelspec": {
   "display_name": "Python 3",
   "language": "python",
   "name": "python3"
  },
  "language_info": {
   "codemirror_mode": {
    "name": "ipython",
    "version": 3
   },
   "file_extension": ".py",
   "mimetype": "text/x-python",
   "name": "python",
   "nbconvert_exporter": "python",
   "pygments_lexer": "ipython3",
   "version": "3.7.4"
  },
  "varInspector": {
   "cols": {
    "lenName": 16,
    "lenType": 16,
    "lenVar": 40
   },
   "kernels_config": {
    "python": {
     "delete_cmd_postfix": "",
     "delete_cmd_prefix": "del ",
     "library": "var_list.py",
     "varRefreshCmd": "print(var_dic_list())"
    },
    "r": {
     "delete_cmd_postfix": ") ",
     "delete_cmd_prefix": "rm(",
     "library": "var_list.r",
     "varRefreshCmd": "cat(var_dic_list()) "
    }
   },
   "types_to_exclude": [
    "module",
    "function",
    "builtin_function_or_method",
    "instance",
    "_Feature"
   ],
   "window_display": false
  }
 },
 "nbformat": 4,
 "nbformat_minor": 2
}
