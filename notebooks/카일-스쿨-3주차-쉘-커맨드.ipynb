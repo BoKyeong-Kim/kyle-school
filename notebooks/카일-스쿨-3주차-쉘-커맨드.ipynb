{
 "cells": [
  {
   "cell_type": "markdown",
   "metadata": {
    "slideshow": {
     "slide_type": "slide"
    }
   },
   "source": [
    "## 카일 스쿨 3주차\n",
    "\n",
    "- #1. 쉘 관련 용어 정의 및 데이터 직군에서 쉘 사용하는 경우\n",
    "- #2. 기본 쉘 커맨드 \n",
    "- #3. 데이터 전처리시 사용할 쉘 커맨드\n",
    "- 종합 실습\n",
    "- #4. 서버에서 주로 사용하는 쉘 커맨드\n",
    "- 오늘 쉘 커맨드를 충분히 익히고, 쉘 스크립트는 다음 주에 진행"
   ]
  },
  {
   "cell_type": "markdown",
   "metadata": {
    "slideshow": {
     "slide_type": "slide"
    }
   },
   "source": [
    "### 1. 쉘 관련 용어 정의 및 데이터 직군에서 쉘 사용하는 경우"
   ]
  },
  {
   "cell_type": "markdown",
   "metadata": {
    "slideshow": {
     "slide_type": "fragment"
    }
   },
   "source": [
    "- 쉘 스크립트란?\n",
    "    - 데이터 그룹에서 이거 왜 해야되는거죠? 라고 물어볼 수 있음\n",
    "    - 쉘 스크립트는 쉘에서 사용하는 스크립트\n",
    "- 사실 리눅스에 대해 잘 알아야 하는데 자세히 가면 어렵기 때문에 우선 스킵\n",
    "    - 그래도 궁금하시면 [리눅스 쉘 스크립트 맛보기](https://zzsza.github.io/development/2017/12/06/linux-2/) 참고"
   ]
  },
  {
   "cell_type": "markdown",
   "metadata": {
    "slideshow": {
     "slide_type": "subslide"
    }
   },
   "source": [
    "- 쉘\n",
    "    - 운영체제에서 제공하는 명령을 실행하는 프로그램\n",
    "    - (리눅스의) 쉘은 명령어와 프로그램을 실행할 때 사용하는 인터페이스\n",
    "    - 쉘은 커널과 사용자간의 다리 역할을 함\n",
    "    - <img src=\"https://t1.daumcdn.net/cfile/tistory/99AE964B5C5A00FA12\">\n"
   ]
  },
  {
   "cell_type": "markdown",
   "metadata": {
    "slideshow": {
     "slide_type": "subslide"
    }
   },
   "source": [
    "- 쉘의 종류\n",
    "    - sh : 최초의 쉘\n",
    "    - bash : 리눅스 표준 쉘\n",
    "    - zsh : 맥 카탈리나 OS 기본 쉘\n",
    "- CLI\n",
    "    - 커맨드 라인 인터페이스(CLI: Command Line Interface)"
   ]
  },
  {
   "cell_type": "markdown",
   "metadata": {
    "slideshow": {
     "slide_type": "subslide"
    }
   },
   "source": [
    "- 쉘과 터미널\n",
    "    - 요새는 혼용해서 씀\n",
    "    - 터미널/콘솔 : 쉘을 실행하기 위해 문자 입력을 받아 컴퓨터에 전달 or 컴퓨터의 출력을 문자 화면에 쓰는 프로그램\n",
    "        - <img src=\"https://www.dropbox.com/s/vza98wmgt5pmwfs/Screenshot%202020-01-01%2021.45.42.png?raw=1\">\n",
    "        - byeon : user_name\n",
    "        - byeon_Macbook : hostname\n",
    "            - hostname : 퓨터 네트워크에 접속된 장치들에 할당된 이름, IP 대신 기억하기 쉽게 작성한 것\n",
    "    - 쉘 : 사용자가 문자를 입력하여 컴퓨터에 명령할 수 있도록 하는 프로그램"
   ]
  },
  {
   "cell_type": "markdown",
   "metadata": {
    "slideshow": {
     "slide_type": "subslide"
    }
   },
   "source": [
    "- 데이터 직군에서 쉘을 사용하는 경우\n",
    "    - Github Repo에서 볼 경우(참고 : [pandas](https://github.com/pandas-dev/pandas))\n",
    "    - 서버에 직접 접속해서 사용할 경우(접속 후 crontab을 돌린다거나, 딥러닝 모델을 flask로 serving한다거나, Airflow를 재실행 등)\n",
    "    - 맥북 사용할 경우(터미널에서 `open .` 사용하면 새 창 띄워주고, 이동 가능)\n",
    "    - GUI 환경이 아닌 경우 CLI 사용\n",
    "    - 리눅스를 직접 사용할 경우\n",
    "    - docker를 사용할 경우(도커 파일을 만들고 python3 설치하고, pandas 설치하고, jupyter notebook 설치하고 등을 쉘 스크립트에 한번에 저장)\n",
    "    - jupyter notebotok에서 앞에 !를 붙이면 쉘 명령어를 칠 수 있음\n",
    "    - 수백대의 시스템을 관리할 경우\n",
    "    - 이미 여러분은 터미널에서 python, jupyter notebook 등을 치고 있을텐데 그것도 쉘 커맨드"
   ]
  },
  {
   "cell_type": "markdown",
   "metadata": {
    "slideshow": {
     "slide_type": "slide"
    }
   },
   "source": [
    "### 2. 기본 쉘 커맨드\n",
    "- 기본 : 이동, 복사, 현재 폴더 확인, 다운로드 등\n",
    "- 따라치며 들어주세요\n",
    "    - 맥 : Terminal, iTerm2 등 실행\n",
    "    - 윈도우 : Prompt, Power Shell 실행"
   ]
  },
  {
   "cell_type": "markdown",
   "metadata": {
    "slideshow": {
     "slide_type": "subslide"
    }
   },
   "source": [
    "- man\n",
    "    - 쉘 커맨드의 manual을 보여주는 명령어\n",
    "    \n",
    "    ```\n",
    "    man python\n",
    "    ```\n",
    "    \n",
    "    - 종료하는 법 : `:q` 입력"
   ]
  },
  {
   "cell_type": "markdown",
   "metadata": {
    "slideshow": {
     "slide_type": "subslide"
    }
   },
   "source": [
    "- mkdir\n",
    "    - 폴더 생성하기\n",
    "    \n",
    "    ```\n",
    "    mkdir kyle-school-week3\n",
    "    ```"
   ]
  },
  {
   "cell_type": "markdown",
   "metadata": {
    "slideshow": {
     "slide_type": "subslide"
    }
   },
   "source": [
    "- cd\n",
    "    - Change Directory\n",
    "    \n",
    "    ```\n",
    "    cd kyle-school-week3\n",
    "    ```\n",
    "    "
   ]
  },
  {
   "cell_type": "markdown",
   "metadata": {
    "slideshow": {
     "slide_type": "subslide"
    }
   },
   "source": [
    "- echo\n",
    "    - Python의 print처럼 텍스트 출력\n",
    "    - echo \"출력할 텍스트\"로 사용\n",
    "    \n",
    "    ```\n",
    "    echo \"Awesome Kyle School!\"\n",
    "    ```\n",
    "    \n",
    "    - echo \\`커맨드\\`를 하면 커맨드를 실행한 결과가 출력됨(` : backtick)\n",
    "    \n",
    "    ```\n",
    "    echo `ls`\n",
    "    ```"
   ]
  },
  {
   "cell_type": "markdown",
   "metadata": {
    "slideshow": {
     "slide_type": "subslide"
    }
   },
   "source": [
    "- vi\n",
    "    - vi 편집기로 파일 생성\n",
    "    - INSERT 모드에만 수정할 수 있음. INSERT 모드가 아니면 키보드에서 i 입력\n",
    "    - vim 사용 팁이 궁금하면 [VIM 자주 사용하는 명령어 및 Tip\n",
    "](https://zzsza.github.io/development/2018/07/20/vim-tips/) 참고\n",
    "    \n",
    "    ```\n",
    "    man vi\n",
    "    vi hi.sh\n",
    "    \n",
    "    (새로운 창이 뜨면) echo \"hi\"\n",
    "    \n",
    "    ESC :wq\n",
    "    \n",
    "    vi .hello.sh\n",
    "    (새로운 창이 뜨면) echo \"hello\"\n",
    "    \n",
    "    ESC :wq\n",
    "    ```\n",
    "       \n",
    "    - `ESC :wq` : 저장하고 나오기\n",
    "    - `ESC :wq!` : 강제로 저장하고 나오기\n",
    "        - 파일의 Permission이 읽기 전용일 경우 `readonly` option is set(add ! to override)라고 뜸 "
   ]
  },
  {
   "cell_type": "markdown",
   "metadata": {
    "slideshow": {
     "slide_type": "subslide"
    }
   },
   "source": [
    "- ls\n",
    "    - list segments의 약자로 파일의 목록을 표시\n",
    "    - ls 뒤에 아무것도 작성하지 않으면 현재 폴더 기준으로 하고, 폴더를 작성하면 폴더 기준으로 됨\n",
    "    - 옵션\n",
    "        - `-a` : .으로 시작하는 파일, 폴더 포함해(전체 파일) 출력\n",
    "            - (참고) .으로 시작하는 파일은 ls만 할 경우 보이지 않음\n",
    "        - `-l` : 퍼미션, 소유자, 만든 날짜, 용량까지 출력\n",
    "        - `-h` : 용량을 사람이 읽기 쉽도록(GB, MB 등) 표현\n",
    "\n",
    "    ```\n",
    "    ls ~\n",
    "    ls\n",
    "    ls -al\n",
    "    ls -alh\n",
    "    ls -l\n",
    "    ls -lh\n",
    "    ```"
   ]
  },
  {
   "cell_type": "markdown",
   "metadata": {
    "slideshow": {
     "slide_type": "subslide"
    }
   },
   "source": [
    "- wget\n",
    "    - 네트워크 상에서 데이터를 다운로드함\n",
    "\n",
    "    ```\n",
    "    wget www.naver.com\n",
    "    ```"
   ]
  },
  {
   "cell_type": "markdown",
   "metadata": {
    "slideshow": {
     "slide_type": "subslide"
    }
   },
   "source": [
    "- pwd\n",
    "    - Print Working Directory의 약어로 현재 작업중인 디렉토리의 절대 경로를 출력함\n",
    "    \n",
    "- mv\n",
    "    - 폴더 이동하기(또는 이름 바꾸기)\n",
    "    \n",
    "    ```\n",
    "    mv hi.sh hi2.sh\n",
    "    ```\n",
    "    \n",
    "- clear\n",
    "    - 터미널을 깨끗하게 해줌"
   ]
  },
  {
   "cell_type": "markdown",
   "metadata": {
    "slideshow": {
     "slide_type": "subslide"
    }
   },
   "source": [
    "- cp\n",
    "    - 폴더 복사하기\n",
    "    \n",
    "    ```\n",
    "    cp hi2.sh hi3.sh\n",
    "    ```\n",
    "    \n",
    "    - 옵션\n",
    "        - `-r` : 디렉토리를 복사할 때 폴더 안에 내용이 있다면 recursive(재귀적으로) 복사해야 하는데, 이럴 경우 사용\n",
    "        - `-f` : 복사할 때 강제로 실행하기(파일이 존재해도 강제로 저장)\n",
    "        - `-p` : 그냥 cp할 경우 현재 사용자의 기본 쇼유권, 퍼미션이 지정되는데 p 옵션을 줄 경우 원본 파일의 속성을 그대로 복사함"
   ]
  },
  {
   "cell_type": "markdown",
   "metadata": {
    "slideshow": {
     "slide_type": "subslide"
    }
   },
   "source": [
    "- history\n",
    "    - 최근에 입력한 커맨드들 출력"
   ]
  },
  {
   "cell_type": "markdown",
   "metadata": {
    "slideshow": {
     "slide_type": "subslide"
    }
   },
   "source": [
    "- 정리\n",
    "    - 이 명령어들은 기본적으로 많이 사용하기 때문에 암기해서 자연스럽게 쓸 수 있길!\n",
    "    - mkdir\n",
    "    - cd\n",
    "    - echo\n",
    "    - vi\n",
    "    - ls\n",
    "    - wget\n",
    "    - pwd\n",
    "    - mv\n",
    "    - clear\n",
    "    - cp\n",
    "    - history"
   ]
  },
  {
   "cell_type": "markdown",
   "metadata": {
    "slideshow": {
     "slide_type": "slide"
    }
   },
   "source": [
    "### 3. 데이터 전처리시 사용할 쉘 커맨드\n",
    "- cat\n",
    "    - concatenate의 약자로 파일 이름을 인자로 받아 concat한 후 내용을 출력함\n",
    "    - 여러 파일을 인자로 주면 합쳐서 출력\n",
    "    \n",
    "    ```\n",
    "    cat hi.sh\n",
    "    cat hi.sh .hello.sh\n",
    "    ```"
   ]
  },
  {
   "cell_type": "markdown",
   "metadata": {
    "slideshow": {
     "slide_type": "subslide"
    }
   },
   "source": [
    "- Redirect(`>`, `>>`) (★★★★★)\n",
    "    - command의 출력을(stdout) filename에 기록하고 파일이 없으면 생성함\n",
    "    - 만약 존재하는 파일에 추가하려면(append) `>>` 사용\n",
    "    - 그 외에 <, << 등도 있긴한데 >, >>를 제일 많이 사용\n",
    "    \n",
    "    ```\n",
    "    echo \"kyle-school\" > kyle.sh\n",
    "    cat kyle.sh\n",
    "    \n",
    "    echo \"kyle-school\" > kyle.sh\n",
    "    cat kyle.sh    \n",
    "    \n",
    "    echo \"kyle-school2222\" >> kyle.sh\n",
    "    echo \"kyle-school3\" >> kyle.sh\n",
    "    echo \"kyle-school5\" >> kyle.sh\n",
    "    echo \"kyle-school4\" >> kyle.sh\n",
    "\n",
    "    cat kyle.sh\n",
    "    ```"
   ]
  },
  {
   "cell_type": "markdown",
   "metadata": {
    "slideshow": {
     "slide_type": "subslide"
    }
   },
   "source": [
    "- 표준 스트림(stream)\n",
    "    - <img src=\"https://www.dropbox.com/s/lrcta83nx7ekj94/Screenshot%202020-01-01%2023.11.55.png?raw=1\" height=\"300\" width=\"300\">\n",
    "    - 유닉스에서 동작하는 프로그램은 실행시 3개의 스트림이 생김\n",
    "    - stdin : 0로 표현, 입력 값(비밀번호, 커맨드 등)\n",
    "    - stdout : 1로 표현, 출력 값(터미널에 나오는 값)\n",
    "    - stderr : 2로 표현, 디버깅 정보나 에러가 출력되는 곳"
   ]
  },
  {
   "cell_type": "markdown",
   "metadata": {
    "slideshow": {
     "slide_type": "subslide"
    }
   },
   "source": [
    "- <img src=\"https://www.dropbox.com/s/nqt1zld0vpbzehm/Screenshot%202020-01-01%2023.16.38.png?raw=1\" height=\"300\" width=\"500\">"
   ]
  },
  {
   "cell_type": "markdown",
   "metadata": {
    "slideshow": {
     "slide_type": "subslide"
    }
   },
   "source": [
    "- Pipe(`|`) (★★★★★)\n",
    "    - 특정 프로그램의 출력 결과를 다른 프로그램의 입력으로 사용하고 싶은 경우 활용\n",
    "    - A의 Output을 B의 Input으로 사용(다양한 커맨드들을 조합할 때 사용)\n",
    "    - 현재 폴더에 있는 파일명 중 hi가 들어가는 것을 찾고 싶은 경우\n",
    "\n",
    "        ```\n",
    "        ls | grep \"hi\"\n",
    "        ```\n",
    "    "
   ]
  },
  {
   "cell_type": "markdown",
   "metadata": {
    "slideshow": {
     "slide_type": "subslide"
    }
   },
   "source": [
    "- 위 결과를 output.txt에 저장하고 싶은 경우\n",
    "\n",
    "    ```\n",
    "    ls | grep \"hi\" > output.txt\n",
    "    ```"
   ]
  },
  {
   "cell_type": "markdown",
   "metadata": {
    "slideshow": {
     "slide_type": "subslide"
    }
   },
   "source": [
    "- 최근에 입력한 커맨드 중 echo가 들어가는 명령어를 찾고 싶은 경우\n",
    "\n",
    "    ```\n",
    "    history | grep \"echo\"\n",
    "    ```"
   ]
  },
  {
   "cell_type": "markdown",
   "metadata": {
    "slideshow": {
     "slide_type": "subslide"
    }
   },
   "source": [
    "- 특정 파일 마지막 줄에 단어 추가하고 싶은 경우\n",
    "\n",
    "    ```\n",
    "    echo \"hi\" >> output.txt\n",
    "    ```"
   ]
  },
  {
   "cell_type": "markdown",
   "metadata": {
    "slideshow": {
     "slide_type": "subslide"
    }
   },
   "source": [
    "### Pipe, Redirect 연습 문제\n",
    "- test.txt 파일에 \"Hi!!!!\"를 입력해주세요(vi 사용 금지)\n",
    "- test.txt 파일 맨 아래에 \"kkkkk\"를 입력해주세요(vi 사용 금지)\n",
    "- test.txt의 라인 수를 구해주세요(힌트 : wc -l를 쓰면 라인 수를 구할 수 있음)"
   ]
  },
  {
   "cell_type": "markdown",
   "metadata": {
    "slideshow": {
     "slide_type": "subslide"
    }
   },
   "source": [
    "- head, tail\n",
    "    - 파일의 앞/뒤 n행 출력\n",
    "    \n",
    "    ```\n",
    "    head -n 5 kyle.sh\n",
    "    ```\n",
    "    "
   ]
  },
  {
   "cell_type": "markdown",
   "metadata": {
    "slideshow": {
     "slide_type": "subslide"
    }
   },
   "source": [
    "- wc\n",
    "    - word count의 약자로 사용자가 지정한 파일의 행, 단어, 문자수를 셈\n",
    "    - 옵션\n",
    "        - `-l` : 라인 수(행)을 count\n",
    "        \n",
    "    - 표준 출력을 count하는 방식으로 많이 사용\n",
    "    \n",
    "    ```\n",
    "    cat kyle.sh | wc -l\n",
    "    ```\n",
    "    "
   ]
  },
  {
   "cell_type": "markdown",
   "metadata": {
    "slideshow": {
     "slide_type": "subslide"
    }
   },
   "source": [
    "- sort\n",
    "    - 행 단위 정렬로 default 옵션은 오름차순\n",
    "    - 옵션\n",
    "        - `-r` : 정렬을 내림차순으로 정렬\n",
    "        - `-n` : numeric sort\n",
    "    - 파일 생성\n",
    "        ```\n",
    "        vi fruits.txt\n",
    "        \n",
    "        banana\n",
    "        orange\n",
    "        apple\n",
    "        apple\n",
    "        orange\n",
    "        orange\n",
    "        apple\n",
    "        banana\n",
    "\n",
    "        # ESC :wq로 저장\n",
    "        ```"
   ]
  },
  {
   "cell_type": "markdown",
   "metadata": {
    "slideshow": {
     "slide_type": "subslide"
    }
   },
   "source": [
    "```\n",
    "cat fruits.txt | sort\n",
    "cat fruits.txt | sort -r\n",
    "```"
   ]
  },
  {
   "cell_type": "markdown",
   "metadata": {
    "slideshow": {
     "slide_type": "subslide"
    }
   },
   "source": [
    "- <img src=\"https://www.dropbox.com/s/mu5l9b3qctuco2z/Screenshot%202020-01-01%2023.54.42.png?raw=1\" width=\"700\" height=\"800\">\n",
    "    "
   ]
  },
  {
   "cell_type": "markdown",
   "metadata": {
    "slideshow": {
     "slide_type": "subslide"
    }
   },
   "source": [
    "- uniq\n",
    "    - 중복된 행이 연속으로 있는 경우 중복을 하나의 행으로 만들어줌\n",
    "    - sort와 함께 사용함\n",
    "    - 옵션\n",
    "        - `-c` : 중복 행의 개수를 출력\n",
    "        \n",
    "    ```\n",
    "    cat fruits.txt | uniq \n",
    "    cat fruits.txt | sort | uniq \n",
    "    \n",
    "    cat fruits.txt | uniq | wc -l\n",
    "    cat fruits.txt | sort | uniq | wc -l\n",
    "    ```"
   ]
  },
  {
   "cell_type": "markdown",
   "metadata": {
    "slideshow": {
     "slide_type": "subslide"
    }
   },
   "source": [
    "    \n",
    "- <img src=\"https://www.dropbox.com/s/5d8o30uzps0i2lf/Screenshot%202020-01-01%2023.57.29.png?raw=1\"  height=\"500\" width=\"800\">\n",
    "    "
   ]
  },
  {
   "cell_type": "markdown",
   "metadata": {
    "slideshow": {
     "slide_type": "subslide"
    }
   },
   "source": [
    "- grep\n",
    "    - 파일에 주어진 패턴 목록과 매칭되는 라인을 검색\n",
    "        - grep 옵션 패턴 파일명\n",
    "    - 패턴\n",
    "        - `^` : 라인 검색\n",
    "        - `$` : 라인 끝\n",
    "        - `.` : 하나 문자 매칭\n",
    "        - `[]` : [] 안의 문자 하나라도 매칭\n",
    "        - `[^]` : [] 안의 문자 중 하나도 매칭되지 않는 문자\n",
    "    - 옵션\n",
    "        - `-i` : insensitively하게, 대소문자 구분 없이 찾기\n",
    "        - `-w` : 정확히 그 단어만 설정\n",
    "        - `-v` : 특정 패턴 제외한 결과 출력\n",
    "        - `-E` : 정규 표현식 사용\n",
    "        - `-B` : before 행 출력"
   ]
  },
  {
   "cell_type": "markdown",
   "metadata": {
    "slideshow": {
     "slide_type": "subslide"
    }
   },
   "source": [
    "- 파일 생성\n",
    "\n",
    "```\n",
    "vi demo_file\n",
    "\n",
    "THIS LINE IS THE 1ST UPPER CASE LINE IN THIS FILE.\n",
    "this line is the 1st lower case line in this file.\n",
    "This Line Has All Its First Character Of The Word With Upper Case.\n",
    "\n",
    "Two lines above this line is empty.\n",
    "And this is the last line\n",
    "empty is umm\n",
    "```\n",
    "\n",
    "```\n",
    "cat demo_file\n",
    "```"
   ]
  },
  {
   "cell_type": "markdown",
   "metadata": {
    "slideshow": {
     "slide_type": "subslide"
    }
   },
   "source": [
    "- 특정 단어가 들어간 줄을 찾고 싶은 경우 : -i 사용"
   ]
  },
  {
   "cell_type": "markdown",
   "metadata": {
    "slideshow": {
     "slide_type": "fragment"
    }
   },
   "source": [
    "```\n",
    "grep -i \"the\" demo_file\n",
    "grep -i \"is\" demo_file\n",
    "```"
   ]
  },
  {
   "cell_type": "markdown",
   "metadata": {
    "slideshow": {
     "slide_type": "subslide"
    }
   },
   "source": [
    "- 특정 단어 중 정확히 그 단어만 찾고 싶은 경우(대소문자 상관없이) : -iw 사용"
   ]
  },
  {
   "cell_type": "markdown",
   "metadata": {
    "slideshow": {
     "slide_type": "fragment"
    }
   },
   "source": [
    "```\n",
    "grep -iw \"is\" demo_file\n",
    "```"
   ]
  },
  {
   "cell_type": "markdown",
   "metadata": {
    "slideshow": {
     "slide_type": "subslide"
    }
   },
   "source": [
    "- 정규 표현식으로 매칭 : -E 사용"
   ]
  },
  {
   "cell_type": "markdown",
   "metadata": {
    "slideshow": {
     "slide_type": "fragment"
    }
   },
   "source": [
    "```\n",
    "grep -E \"lines.*empty\" demo_file\n",
    "```"
   ]
  },
  {
   "cell_type": "markdown",
   "metadata": {
    "slideshow": {
     "slide_type": "subslide"
    }
   },
   "source": [
    "- OR 조건 : | 사용"
   ]
  },
  {
   "cell_type": "markdown",
   "metadata": {
    "slideshow": {
     "slide_type": "fragment"
    }
   },
   "source": [
    "```\n",
    "grep -E 'is|this' demo_file\n",
    "```"
   ]
  },
  {
   "cell_type": "markdown",
   "metadata": {
    "slideshow": {
     "slide_type": "subslide"
    }
   },
   "source": [
    "- AND 조건 : * 사용"
   ]
  },
  {
   "cell_type": "markdown",
   "metadata": {
    "slideshow": {
     "slide_type": "fragment"
    }
   },
   "source": [
    "```\n",
    "grep -E \"this.*last\" demo_file\n",
    "```"
   ]
  },
  {
   "cell_type": "markdown",
   "metadata": {
    "slideshow": {
     "slide_type": "subslide"
    }
   },
   "source": [
    "- 특정 조건 이전 n행 추출 : -B 사용"
   ]
  },
  {
   "cell_type": "markdown",
   "metadata": {
    "slideshow": {
     "slide_type": "fragment"
    }
   },
   "source": [
    "```\n",
    "grep -B 2 \"And\" demo_file\n",
    "```"
   ]
  },
  {
   "cell_type": "markdown",
   "metadata": {
    "slideshow": {
     "slide_type": "subslide"
    }
   },
   "source": [
    "### grep 연습 문제\n",
    "- (demo_file에서)\n",
    "- empty가 들어간 행을 출력해주세요\n",
    "- First와 Upper가 들어간 행을 출력해주세요\n",
    "- above가 들어간 행의 단어는 몇개 있을까요?\n",
    "- empty가 마지막에 들어간 행을 출력해주세요(정규 표현식 사용)"
   ]
  },
  {
   "cell_type": "markdown",
   "metadata": {
    "slideshow": {
     "slide_type": "subslide"
    }
   },
   "source": [
    "- cut\n",
    "    - 파일에서 특정 필드를 뽑아냄\n",
    "    - 옵션\n",
    "        - `-f` : 잘라낼 필드를 지정\n",
    "        - `-d` : 필드를 구분하는 문자 지정. 디폴트는 탭\n",
    "        \n",
    "    ```\n",
    "    vi cut_file\n",
    "    \n",
    "    root:x:0:0:root:/root:/bin/bash\n",
    "    bin:x:1:1:bin:/bin:/sbin/nologin\n",
    "    daemon:x:2:2:daemon:/sbin:/sbin/nologin\n",
    "    \n",
    "    ESC :wq\n",
    "    ```\n",
    "    \n",
    "    ```\n",
    "    cat cut_file | cut -d : -f 1,7\n",
    "    ```"
   ]
  },
  {
   "cell_type": "markdown",
   "metadata": {
    "slideshow": {
     "slide_type": "subslide"
    }
   },
   "source": [
    "### cut 연습 문제\n",
    "- cut_file을 / 기준으로 split한 후 처음 부분만 출력\n",
    "- cut_file을 / 기준으로 split한 후 : 기준으로 또 split하고 처음 부분만 출력"
   ]
  },
  {
   "cell_type": "markdown",
   "metadata": {
    "slideshow": {
     "slide_type": "skip"
    }
   },
   "source": [
    "cat cut_file | cut -d / -f 1 | cut -d : -f 1"
   ]
  },
  {
   "cell_type": "markdown",
   "metadata": {
    "slideshow": {
     "slide_type": "skip"
    }
   },
   "source": [
    "- awk\n",
    "    \n",
    "    ```\n",
    "    df | awk '$4 < 100000'\n",
    "    ```"
   ]
  },
  {
   "cell_type": "markdown",
   "metadata": {
    "slideshow": {
     "slide_type": "subslide"
    }
   },
   "source": [
    "- find\n",
    "    - 리눅스에서 파일 및 디렉토리를 검색할 때 사용\n",
    "    - find . -name \"File\"\n",
    "    - fine . -name -*.h\" -delete : 검색 후 삭제"
   ]
  },
  {
   "cell_type": "markdown",
   "metadata": {
    "slideshow": {
     "slide_type": "skip"
    }
   },
   "source": [
    "- sed\n",
    "    - 드랍박스에 모든 것들을 바꿔줘야해서 아래와 같이 수정함\n",
    "    ```\n",
    "    sed -i.bak 's/%EC%8A%A4%ED%81%AC%EB%A6%B0%EC%83%B7/Screenshot/g' *.md\n",
    "    ```\n",
    "    "
   ]
  },
  {
   "cell_type": "markdown",
   "metadata": {
    "slideshow": {
     "slide_type": "skip"
    }
   },
   "source": [
    "- xargs"
   ]
  },
  {
   "cell_type": "markdown",
   "metadata": {
    "slideshow": {
     "slide_type": "slide"
    }
   },
   "source": [
    "### 종합 실습\n",
    "- 커맨드 한줄로 카카오톡 대화방에서 2019년에 말 많이한 사람 추출하기\n",
    "- 우선 카카오톡에서 대화 내보내기로 csv 저장해주세요\n",
    "- hint : 오늘 배운 다양한 것들을 다 사용합니다"
   ]
  },
  {
   "cell_type": "markdown",
   "metadata": {
    "slideshow": {
     "slide_type": "skip"
    }
   },
   "source": [
    "cat kakao-chat.csv | grep -e ^2019 | cut -f 2 -d ',' | sort | uniq -c | sort -rn | head -n 10"
   ]
  },
  {
   "cell_type": "markdown",
   "metadata": {
    "slideshow": {
     "slide_type": "slide"
    }
   },
   "source": [
    "### 4. 서버에서 주로 사용하는 쉘 커맨드\n",
    "- 사실 더 많지만 오늘은 일단 이정도만..! (머리 아플듯)\n",
    "- ps\n",
    "    - process status. 현재 시스템에 돌고 있는 프로세스를 보여줌\n",
    "    - 옵션\n",
    "        - `-e` : 모든 프로세스\n",
    "        - `-f` : full format으로 자세히 보여줌\n",
    "    - <img src=\"https://www.dropbox.com/s/jov8c809rhygnve/Screenshot%202020-01-03%2009.36.36.png?raw=1\" width=\"700\" height=\"600\">"
   ]
  },
  {
   "cell_type": "markdown",
   "metadata": {
    "slideshow": {
     "slide_type": "subslide"
    }
   },
   "source": [
    "- 목적은 비슷한 두 도구\n",
    "- curl\n",
    "    - cURL : 다양한 통신 프로토콜을 이용하여 데이터를 전송하기 위한 라이브러리\n",
    "        \n",
    "        ```\n",
    "        curl -X localhost:5000/ {data}\n",
    "        ```\n",
    "        \n",
    "        \n",
    "- httpie : python으로 개발된 http client 유틸리티\n",
    "        - curl에 비해 사용이 쉽고\n",
    "        - json 지원 기능 내장\n",
    "        - 출력을 포매팅해줘서 가독성이 뛰어남\n",
    "        \n",
    "        ```\n",
    "        pip3 install httpie\n",
    "        ```\n",
    "        \n",
    "        ```\n",
    "        http -v localhost:5000/ {data}\n",
    "        ```"
   ]
  },
  {
   "cell_type": "markdown",
   "metadata": {
    "slideshow": {
     "slide_type": "subslide"
    }
   },
   "source": [
    "- curl과 httpie 비교\n",
    "    - 기상청에서 초단기실황 데이터 가져오는 경우\n",
    "    - curl\n",
    "        - <img src=\"https://www.dropbox.com/s/7vq4p5tmcroo3yk/Screenshot%202020-01-03%2009.44.06.png?raw=1\" width=\"700\" height=\"600\">"
   ]
  },
  {
   "cell_type": "markdown",
   "metadata": {
    "slideshow": {
     "slide_type": "subslide"
    }
   },
   "source": [
    "- httpie\n",
    "    - <img src=\"https://www.dropbox.com/s/q4v4xdy940lug90/Screenshot%202020-01-03%2009.45.26.png?raw=1\" widht=\"700\" height=\"600\">"
   ]
  },
  {
   "cell_type": "markdown",
   "metadata": {
    "slideshow": {
     "slide_type": "subslide"
    }
   },
   "source": [
    "- df\n",
    "    - 디스크 용량 확인\n",
    "    - 옵션\n",
    "        - `-h` : 사람이 읽기 쉬운 형태로 출력\n",
    "        \n",
    "    - <img src=\"https://www.dropbox.com/s/56k3rfpninwb0k3/Screenshot%202020-01-03%2009.47.37.png?raw=1\" height=\"700\" widht=\"500\">"
   ]
  },
  {
   "cell_type": "markdown",
   "metadata": {
    "slideshow": {
     "slide_type": "skip"
    }
   },
   "source": [
    "- htop\n",
    "- 백그라운드 실행\n",
    "    - nohup\n",
    "    - screen\n",
    "    https://unix.stackexchange.com/questions/24658/nohup-vs-screen"
   ]
  },
  {
   "cell_type": "markdown",
   "metadata": {
    "slideshow": {
     "slide_type": "slide"
    }
   },
   "source": [
    "### 정리\n",
    "- 쉘 커맨드를 잘 알면 쉘 스크립트를 쉽게 사용 가능한 편\n",
    "- 특정 경우엔 python이 아니라 쉘에서 바로 진행하면 더 편함\n",
    "- 서버에서 무언가 작업을 한다면 필수적으로 익히는 것이 좋음"
   ]
  },
  {
   "cell_type": "markdown",
   "metadata": {
    "slideshow": {
     "slide_type": "subslide"
    }
   },
   "source": [
    "#### 더 공부하고 싶다면?"
   ]
  },
  {
   "cell_type": "markdown",
   "metadata": {
    "slideshow": {
     "slide_type": "fragment"
    }
   },
   "source": [
    "- 만화로 배우는 리눅스 시스템 관리 : 표지가 유일한 단점. 처음 접할 때 매우 좋음\n",
    "    - <img src=\"https://www.dropbox.com/s/dp9r5fuwa9jn74j/Screenshot%202020-01-03%2009.13.42.png?raw=1\" width=\"300\" height=\"300\">"
   ]
  },
  {
   "cell_type": "markdown",
   "metadata": {
    "slideshow": {
     "slide_type": "subslide"
    }
   },
   "source": [
    "- 김태용의 리눅스 쉘 스크립트 프로그래밍 입문 : 엄청 두껍지만, 한번 보면 매우 도움\n",
    "    - <img src=\"https://www.dropbox.com/s/ysoh4v5tuwbifdh/Screenshot%202020-01-03%2009.17.06.png?raw=1\" width=\"300\" height=\"300\">"
   ]
  },
  {
   "cell_type": "markdown",
   "metadata": {
    "slideshow": {
     "slide_type": "subslide"
    }
   },
   "source": [
    "- Data Science at the Command Line : 원서지만 특정 부분만 볼만함\n",
    "    - 책을 온라인에 공개해둠. [링크](https://www.datascienceatthecommandline.com/) 참고\n",
    "    - <img src=\"https://www.dropbox.com/s/qkrn9b5nlzpptyt/Screenshot%202020-01-03%2009.18.05.png?raw=1\" width=\"300\" height=\"300\">"
   ]
  },
  {
   "cell_type": "markdown",
   "metadata": {
    "slideshow": {
     "slide_type": "subslide"
    }
   },
   "source": [
    "### 다음 수업\n",
    "- awk, sed, xargs, htop, nohup, screen 등 오늘 다루지 못한 쉘 커맨드에 대해 알려준 후\n",
    "- 쉘 스크립트에 대해서 진행할 예정\n",
    "\n",
    "- 오늘 숙제\n",
    "    - 실습했던 내용 쭈루룩 한번씩 해보기\n",
    "    - 카카오톡 채팅에서 말 많이 한 사람 한줄로 출력해보기"
   ]
  }
 ],
 "metadata": {
  "celltoolbar": "Slideshow",
  "kernelspec": {
   "display_name": "Python3.6",
   "language": "python",
   "name": "python3"
  },
  "language_info": {
   "codemirror_mode": {
    "name": "ipython",
    "version": 3
   },
   "file_extension": ".py",
   "mimetype": "text/x-python",
   "name": "python",
   "nbconvert_exporter": "python",
   "pygments_lexer": "ipython3",
   "version": "3.6.5"
  },
  "varInspector": {
   "cols": {
    "lenName": 16,
    "lenType": 16,
    "lenVar": 40
   },
   "kernels_config": {
    "python": {
     "delete_cmd_postfix": "",
     "delete_cmd_prefix": "del ",
     "library": "var_list.py",
     "varRefreshCmd": "print(var_dic_list())"
    },
    "r": {
     "delete_cmd_postfix": ") ",
     "delete_cmd_prefix": "rm(",
     "library": "var_list.r",
     "varRefreshCmd": "cat(var_dic_list()) "
    }
   },
   "types_to_exclude": [
    "module",
    "function",
    "builtin_function_or_method",
    "instance",
    "_Feature"
   ],
   "window_display": false
  }
 },
 "nbformat": 4,
 "nbformat_minor": 2
}
